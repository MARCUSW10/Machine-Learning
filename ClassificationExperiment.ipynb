{
 "cells": [
  {
   "cell_type": "code",
   "execution_count": 2,
   "metadata": {
    "collapsed": true
   },
   "outputs": [],
   "source": [
    "from sklearn.externals.joblib import Memory\n",
    "from sklearn.datasets import load_svmlight_file\n",
    "mem=Memory(\"./mycache\")\n",
    "\n",
    "@mem.cache\n",
    "def get_data():\n",
    "    data=load_svmlight_file(\"D:\\Ipython_data\\Australian_scale.txt\")\n",
    "    return data[0],data[1]\n",
    "x,y=get_data()"
   ]
  },
  {
   "cell_type": "code",
   "execution_count": 46,
   "metadata": {
    "collapsed": true
   },
   "outputs": [],
   "source": [
    "import numpy as np\n",
    "from sklearn.model_selection import train_test_split\n",
    "x_train,x_test,y_train,y_test=train_test_split(x,y,test_size=0.3,random_state=0)"
   ]
  },
  {
   "cell_type": "code",
   "execution_count": 47,
   "metadata": {
    "collapsed": true
   },
   "outputs": [],
   "source": [
    "import numpy as np\n",
    "import numpy\n",
    "class LinearClassification(object):\n",
    "    def __init__(self,Learning_rate=0.001,threshold=0.0,epoch=8):\n",
    "        self.Learning_rate=Learning_rate\n",
    "        self.epoch=epoch\n",
    "     \n",
    "    def fit(self,x,y,threshold,C):\n",
    "        self.w=np.zeros((1,1+x.shape[1]))\n",
    "        self.cost_list=[]\n",
    "        self.threshold=threshold\n",
    "        self.C=C\n",
    "    \n",
    "        #对每个x进行计算\n",
    "        for i in range(self.epoch):\n",
    "            cost=0\n",
    "            for j in range(x.shape[0]):\n",
    "                output=self.Classification_input(x[j,:],self.threshold)\n",
    "                if(y[j]!=output):\n",
    "                    #计算y*x\n",
    "                    t=self.C*y[j]*x[j,:]\n",
    "                    \n",
    "                    #计算梯度\n",
    "                    dw=self.w[0,1:]-t\n",
    "                    \n",
    "                    #计算cost\n",
    "                    cost+=((1-y[j]*output)*self.C)\n",
    "                    \n",
    "                    #更新w\n",
    "                    self.w[0,1:]=self.w[0,1:]+self.Learning_rate*dw\n",
    "                    self.w[0,0]=self.w[0,0]+self.Learning_rate*(self.w[0,0]-self.C*y[j])\n",
    "            self.w1=self.w.T\n",
    "            cost+=((self.w1*self.w.T).sum())/2\n",
    "            self.cost_list.append(cost)\n",
    "        return self\n",
    "          \n",
    "    \n",
    "    #计算每个f(X)\n",
    "    def Classification_input(self,x,threshold):\n",
    "        f=x*self.w[0,1:]+self.w[0,0]\n",
    "        if(f>=threshold):\n",
    "            return 1\n",
    "        else:\n",
    "            return -1\n"
   ]
  },
  {
   "cell_type": "code",
   "execution_count": 48,
   "metadata": {},
   "outputs": [
    {
     "data": {
      "text/plain": [
       "<__main__.LinearClassification at 0x896ac765f8>"
      ]
     },
     "execution_count": 48,
     "metadata": {},
     "output_type": "execute_result"
    }
   ],
   "source": [
    "model=LinearClassification()\n",
    "model.fit(x_train,y_train,0,1)\n",
    "model2=LinearClassification()\n",
    "model2.fit(x_test,y_test,0,1)"
   ]
  },
  {
   "cell_type": "code",
   "execution_count": 49,
   "metadata": {},
   "outputs": [
    {
     "data": {
      "image/png": "[encoded data removed]",
      "text/plain": [
       "<matplotlib.figure.Figure at 0x896ac91898>"
      ]
     },
     "metadata": {},
     "output_type": "display_data"
    }
   ],
   "source": [
    "import matplotlib.pyplot as plt\n",
    "plt.plot(range(1,model.epoch+1),model.cost_list,'b-',range(1,model2.epoch+1),model2.cost_list,'r-')\n",
    "plt.ylabel('Loss')\n",
    "plt.xlabel('Epoch')\n",
    "plt.show()"
   ]
  }
 ],
 "metadata": {
  "kernelspec": {
   "display_name": "Python 3",
   "language": "python",
   "name": "python3"
  },
  "language_info": {
   "codemirror_mode": {
    "name": "ipython",
    "version": 3
   },
   "file_extension": ".py",
   "mimetype": "text/x-python",
   "name": "python",
   "nbconvert_exporter": "python",
   "pygments_lexer": "ipython3",
   "version": "3.6.3"
  }
 },
 "nbformat": 4,
 "nbformat_minor": 2
}

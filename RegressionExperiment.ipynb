{
 "cells": [
  {
   "cell_type": "code",
   "execution_count": 23,
   "metadata": {},
   "outputs": [],
   "source": [
    "from sklearn.externals.joblib import Memory\n",
    "from sklearn.datasets import load_svmlight_file\n",
    "mem=Memory(\"./mycache\")\n",
    "\n",
    "@mem.cache\n",
    "def get_data():\n",
    "    data=load_svmlight_file(\"D:\\Ipython_data\\housing_scale.txt\")\n",
    "    return data[0],data[1]\n",
    "x,y=get_data()\n",
    "\n",
    "import numpy as np\n",
    "from sklearn.model_selection import train_test_split\n",
    "x_train,x_test,y_train,y_test=train_test_split(x,y,test_size=0.23,random_state=0)"
   ]
  },
  {
   "cell_type": "code",
   "execution_count": 28,
   "metadata": {
    "collapsed": true
   },
   "outputs": [],
   "source": [
    "import numpy as np\n",
    "import numpy \n",
    "class LinearRegressionByMyself(object):\n",
    "    def __init__(self,Learning_rate=0.001,epoch=8):\n",
    "        self.Learning_rate=Learning_rate\n",
    "        self.epoch=epoch\n",
    "        \n",
    "    def fit(self,x,y):\n",
    "        self.w=np.zeros(1+x.shape[1])\n",
    "        self.cost_list=[]\n",
    "        self.row=x.shape[0]\n",
    "        \n",
    "        for i in range(self.epoch):\n",
    "            output=self.Regression_input(x)\n",
    "            error=(y-output)\n",
    "            self.w[1:]+=self.Learning_rate*x.T.dot(error)\n",
    "            self.w[0]+=self.Learning_rate*error.sum()\n",
    "            cost=(error**2).sum()/2.0\n",
    "            self.cost_list.append(cost)\n",
    "        return self\n",
    "    \n",
    "    def Regression_input(self,x):\n",
    "        return x.dot(self.w[1:])+self.w[0]\n"
   ]
  },
  {
   "cell_type": "code",
   "execution_count": 25,
   "metadata": {},
   "outputs": [
    {
     "data": {
      "text/plain": [
       "<__main__.LinearRegressionByMyself at 0x1dbf0aabe0>"
      ]
     },
     "execution_count": 25,
     "metadata": {},
     "output_type": "execute_result"
    }
   ],
   "source": [
    "model=LinearRegressionByMyself()\n",
    "model.fit(x_train,y_train)\n",
    "model2=LinearRegressionByMyself()\n",
    "model2.fit(x_test,y_test)"
   ]
  },
  {
   "cell_type": "code",
   "execution_count": 26,
   "metadata": {},
   "outputs": [
    {
     "data": {
      "image/png": "[encoded data removed]",
      "text/plain": [
       "<matplotlib.figure.Figure at 0x1dbf178240>"
      ]
     },
     "metadata": {},
     "output_type": "display_data"
    }
   ],
   "source": [
    "import matplotlib.pyplot as plt\n",
    "plt.plot(range(1,model.epoch+1),model.cost_list,'b-',range(1,model2.epoch+1),model2.cost_list,'g-')\n",
    "plt.ylabel('SSE')\n",
    "plt.xlabel('Epoch')\n",
    "plt.show()"
   ]
  }
 ],
 "metadata": {
  "kernelspec": {
   "display_name": "Python 3",
   "language": "python",
   "name": "python3"
  },
  "language_info": {
   "codemirror_mode": {
    "name": "ipython",
    "version": 3
   },
   "file_extension": ".py",
   "mimetype": "text/x-python",
   "name": "python",
   "nbconvert_exporter": "python",
   "pygments_lexer": "ipython3",
   "version": "3.6.3"
  }
 },
 "nbformat": 4,
 "nbformat_minor": 2
}
